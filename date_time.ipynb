{
 "cells": [
  {
   "cell_type": "code",
   "execution_count": 39,
   "id": "0d99a304-4915-4db2-bb72-3578e52a339c",
   "metadata": {},
   "outputs": [],
   "source": [
    "from datetime import datetime, date"
   ]
  },
  {
   "cell_type": "code",
   "execution_count": 26,
   "id": "7ace89c2-4712-4fdb-9783-a6a6f7a3bcf0",
   "metadata": {},
   "outputs": [],
   "source": [
    "date = date.today()"
   ]
  },
  {
   "cell_type": "code",
   "execution_count": 28,
   "id": "93775f22-4923-47c8-98cc-aa3a67afb7a7",
   "metadata": {},
   "outputs": [
    {
     "name": "stdout",
     "output_type": "stream",
     "text": [
      "2024-10-01\n"
     ]
    }
   ],
   "source": [
    "print(date)"
   ]
  },
  {
   "cell_type": "markdown",
   "id": "7ed94670-2741-4598-a1d9-34d8b9b6dc73",
   "metadata": {},
   "source": [
    "## Age calculation :"
   ]
  },
  {
   "cell_type": "code",
   "execution_count": 31,
   "id": "69184303-7bc0-4e15-aaf3-73b11664940b",
   "metadata": {},
   "outputs": [
    {
     "name": "stdin",
     "output_type": "stream",
     "text": [
      "enter day:  5\n",
      "enter month 1\n",
      "enter year 2004\n"
     ]
    }
   ],
   "source": [
    "dd = int(input(\"enter day: \"))\n",
    "mm = int(input(\"enter month\"))\n",
    "yyyy = int(input(\"enter year\"))"
   ]
  },
  {
   "cell_type": "code",
   "execution_count": 66,
   "id": "c7b27a63-54a6-4651-91ac-89c3ef535190",
   "metadata": {},
   "outputs": [
    {
     "name": "stdout",
     "output_type": "stream",
     "text": [
      "birth date : 2004-01-05\n",
      "today date : 2024-10-01\n",
      "total days;  7575 days, 0:00:00\n"
     ]
    }
   ],
   "source": [
    "birth_date = date(yyyy,mm,dd)\n",
    "print(\"birth date :\",birth_date)\n",
    "\n",
    "today_date = date.today()\n",
    "print(\"today date :\",today_date)\n",
    "\n",
    "diff = today_date - birth_date\n",
    "print(\"total days; \",diff)"
   ]
  },
  {
   "cell_type": "code",
   "execution_count": 82,
   "id": "5172ecce-2ef1-431d-b596-00302bec9778",
   "metadata": {},
   "outputs": [
    {
     "name": "stdout",
     "output_type": "stream",
     "text": [
      "AGE:  20 years, 9 months, 275 days\n"
     ]
    }
   ],
   "source": [
    "years = diff.days // 365\n",
    "remaining_days = diff.days % 365\n",
    "months = remaining_days // 30\n",
    "\n",
    "print(\"AGE: \",years,\"years,\",months,\"months,\",remaining_days,\"days\")\n"
   ]
  },
  {
   "cell_type": "code",
   "execution_count": null,
   "id": "3c819c66-0a02-47ed-b7ce-ce3e0eb56430",
   "metadata": {},
   "outputs": [],
   "source": []
  },
  {
   "cell_type": "code",
   "execution_count": null,
   "id": "60a6527a-2d59-450c-ac09-30a0c52d3086",
   "metadata": {},
   "outputs": [],
   "source": []
  },
  {
   "cell_type": "code",
   "execution_count": null,
   "id": "79fdf092-fffa-4042-bf0d-55be8ebfb8aa",
   "metadata": {},
   "outputs": [],
   "source": []
  },
  {
   "cell_type": "code",
   "execution_count": null,
   "id": "297870b7-dac7-461a-850c-a4e4284a88fb",
   "metadata": {},
   "outputs": [],
   "source": []
  },
  {
   "cell_type": "code",
   "execution_count": null,
   "id": "de84a45f-4edf-4c9c-ac92-4e1fe72bf049",
   "metadata": {},
   "outputs": [],
   "source": []
  },
  {
   "cell_type": "markdown",
   "id": "786106f8-18d0-4ea8-905f-d0b6c0db0510",
   "metadata": {},
   "source": [
    "## Basics :"
   ]
  },
  {
   "cell_type": "code",
   "execution_count": 90,
   "id": "e525ea17-ee51-4483-82bc-28b1bcf6d245",
   "metadata": {},
   "outputs": [
    {
     "name": "stdout",
     "output_type": "stream",
     "text": [
      "Today's date and time is:  2024-10-01 19:39:18.363172\n",
      "Specific date and time is:  2004-04-03 14:30:29\n"
     ]
    },
    {
     "name": "stdin",
     "output_type": "stream",
     "text": [
      "Enter the day:  5\n",
      "Enter the month:  1\n",
      "Enter the year:  2004\n"
     ]
    },
    {
     "name": "stdout",
     "output_type": "stream",
     "text": [
      "Entered date and time is:  2004-01-05 00:00:00\n",
      "Converting string to datetime:  2024-09-15 14:30:29\n",
      "Converting datetime to string:  2004-04-03 14:30:29\n",
      "The difference between current date and specific date:  7575 days, 19:39:18.363172\n",
      "20  years  and  9  months 275  days\n"
     ]
    }
   ],
   "source": [
    "from datetime import datetime\n",
    "\n",
    "# Getting the current datetime\n",
    "today_day = datetime.now()  \n",
    "print(\"Today's date and time is: \", today_day)\n",
    "\n",
    "# Create a specific datetime\n",
    "Newdate = datetime(2004, 4, 3, 14, 30, 29) \n",
    "print(\"Specific date and time is: \", Newdate)\n",
    "\n",
    "Day = int(input(\"Enter the day: \")) \n",
    "Month = int(input(\"Enter the month: \")) \n",
    "Year = int(input(\"Enter the year: \"))\n",
    "\n",
    "date_object = datetime(Year, Month, Day) \n",
    "print(\"Entered date and time is: \", date_object)\n",
    "\n",
    "# Convert string to datetime\n",
    "dateTime_string = \"2024-09-15 14:30:29\"\n",
    "StrToDateTime = datetime.strptime(dateTime_string, \"%Y-%m-%d %H:%M:%S\")\n",
    "print(\"Converting string to datetime: \", StrToDateTime)\n",
    "\n",
    "# Convert datetime to string\n",
    "DateTimetostr = datetime.strftime(Newdate, \"%Y-%m-%d %H:%M:%S\")\n",
    "print(\"Converting datetime to string: \", DateTimetostr)\n",
    "\n",
    "# Difference between current date and specific date\n",
    "dateDifference = today_day - date_object\n",
    "print(\"The difference between current date and specific date: \", dateDifference)\n",
    "\n",
    "total_days = dateDifference.days\n",
    "years = total_days // 365\n",
    "remaingDays = total_days % 365\n",
    "total_months = remaingDays  // 30\n",
    "print(years,\" years\",\" and \", total_months ,\" months\",remaingDays,\" days\")"
   ]
  },
  {
   "cell_type": "code",
   "execution_count": null,
   "id": "6a41b92f-2923-4eae-a433-4b9342aded39",
   "metadata": {},
   "outputs": [],
   "source": []
  }
 ],
 "metadata": {
  "kernelspec": {
   "display_name": "Python 3 (ipykernel)",
   "language": "python",
   "name": "python3"
  },
  "language_info": {
   "codemirror_mode": {
    "name": "ipython",
    "version": 3
   },
   "file_extension": ".py",
   "mimetype": "text/x-python",
   "name": "python",
   "nbconvert_exporter": "python",
   "pygments_lexer": "ipython3",
   "version": "3.12.4"
  }
 },
 "nbformat": 4,
 "nbformat_minor": 5
}
